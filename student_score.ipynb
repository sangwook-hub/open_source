{
 "cells": [
  {
   "cell_type": "code",
   "execution_count": 1,
   "metadata": {},
   "outputs": [],
   "source": [
    "import numpy as np\n",
    "import pandas as pd\n",
    "\n",
    "import warnings\n",
    "warnings.simplefilter(action='ignore', category=FutureWarning)\n",
    "\n",
    "import matplotlib.pyplot as plt\n",
    "%matplotlib inline\n",
    "\n",
    "import seaborn as sns\n",
    "\n",
    "plt.style.use('seaborn')\n",
    "sns.set(font_scale=1.5)"
   ]
  },
  {
   "cell_type": "code",
   "execution_count": 2,
   "metadata": {},
   "outputs": [],
   "source": [
    "student = pd.read_csv('../student/student-mat.csv')"
   ]
  },
  {
   "cell_type": "code",
   "execution_count": 3,
   "metadata": {},
   "outputs": [],
   "source": [
    "from sklearn.compose import ColumnTransformer\n",
    "from sklearn.preprocessing import StandardScaler, OneHotEncoder, Normalizer"
   ]
  },
  {
   "cell_type": "code",
   "execution_count": 4,
   "metadata": {},
   "outputs": [],
   "source": [
    "ct = ColumnTransformer([('scaling', Normalizer(),  ['age', 'Medu', 'Fedu', 'traveltime', 'studytime', 'failures', 'famrel', \n",
    "                                                        'freetime', 'goout', 'Dalc', 'Walc', 'health', 'absences']),\n",
    "                       ('onehot', OneHotEncoder(sparse = False),\n",
    "                       ['school', 'sex', 'address', 'famsize', 'Pstatus', 'Mjob', 'Fjob', 'guardian','schoolsup', 'famsup', 'paid', 'activities', \n",
    "             'nursery', 'higher', 'internet', 'romantic'  ])]    )"
   ]
  },
  {
   "cell_type": "code",
   "execution_count": 5,
   "metadata": {},
   "outputs": [],
   "source": [
    "student.drop('reason', axis = 1, inplace = True)"
   ]
  },
  {
   "cell_type": "code",
   "execution_count": 6,
   "metadata": {},
   "outputs": [],
   "source": [
    "student['aver'] =( student['G1'] + student['G2'] ) / 2"
   ]
  },
  {
   "cell_type": "code",
   "execution_count": 7,
   "metadata": {},
   "outputs": [],
   "source": [
    "X, y = (student.drop(['G1', 'G2', 'G3'], axis = 1)), student.G3"
   ]
  },
  {
   "cell_type": "code",
   "execution_count": 8,
   "metadata": {},
   "outputs": [],
   "source": [
    "from sklearn.model_selection import train_test_split\n",
    "X_train, X_test, y_train, y_test = train_test_split(X, y, random_state = 10, test_size = 0.2)"
   ]
  },
  {
   "cell_type": "code",
   "execution_count": 9,
   "metadata": {},
   "outputs": [],
   "source": [
    "X_train_trans = ct.fit_transform(X_train)\n",
    "X_test_trans = ct.transform(X_test)"
   ]
  },
  {
   "cell_type": "code",
   "execution_count": 10,
   "metadata": {},
   "outputs": [],
   "source": [
    "from sklearn.linear_model import LogisticRegression\n",
    "from sklearn.svm import LinearSVC\n",
    "from sklearn.model_selection import GridSearchCV"
   ]
  },
  {
   "cell_type": "code",
   "execution_count": 11,
   "metadata": {},
   "outputs": [
    {
     "name": "stderr",
     "output_type": "stream",
     "text": [
      "C:\\Users\\ORC\\Anaconda3\\lib\\site-packages\\sklearn\\model_selection\\_split.py:657: Warning: The least populated class in y has only 1 members, which is too few. The minimum number of members in any class cannot be less than n_splits=5.\n",
      "  % (min_groups, self.n_splits)), Warning)\n",
      "C:\\Users\\ORC\\Anaconda3\\lib\\site-packages\\sklearn\\model_selection\\_search.py:814: DeprecationWarning: The default of the `iid` parameter will change from True to False in version 0.22 and will be removed in 0.24. This will change numeric results when test-set sizes are unequal.\n",
      "  DeprecationWarning)\n"
     ]
    },
    {
     "data": {
      "text/plain": [
       "GridSearchCV(cv=5, error_score='raise-deprecating',\n",
       "             estimator=LogisticRegression(C=1.0, class_weight=None, dual=False,\n",
       "                                          fit_intercept=True,\n",
       "                                          intercept_scaling=1, l1_ratio=None,\n",
       "                                          max_iter=100, multi_class='warn',\n",
       "                                          n_jobs=None, penalty='l2',\n",
       "                                          random_state=None, solver='warn',\n",
       "                                          tol=0.0001, verbose=0,\n",
       "                                          warm_start=False),\n",
       "             iid='warn', n_jobs=None,\n",
       "             param_grid={'C': [0.001, 0.01, 0.1, 1, 10, 100]},\n",
       "             pre_dispatch='2*n_jobs', refit=True, return_train_score=True,\n",
       "             scoring=None, verbose=0)"
      ]
     },
     "execution_count": 11,
     "metadata": {},
     "output_type": "execute_result"
    }
   ],
   "source": [
    "param_grid = {'C' : [0.001, 0.01, 0.1, 1, 10, 100]}\n",
    "\n",
    "grid_search = GridSearchCV(LogisticRegression(), param_grid, cv = 5, return_train_score = True)\n",
    "grid_search.fit(X_train_trans, y_train)"
   ]
  },
  {
   "cell_type": "code",
   "execution_count": 12,
   "metadata": {
    "scrolled": true
   },
   "outputs": [
    {
     "name": "stdout",
     "output_type": "stream",
     "text": [
      "0.11392405063291139\n",
      "최고 교차 검증 점수:  0.16772151898734178\n",
      "최적 매개변수 :  {'C': 0.1}\n"
     ]
    }
   ],
   "source": [
    "print(grid_search.score(X_test_trans, y_test))\n",
    "\n",
    "print(\"최고 교차 검증 점수: \", grid_search.best_score_)\n",
    "print(\"최적 매개변수 : \", grid_search.best_params_)"
   ]
  },
  {
   "cell_type": "code",
   "execution_count": 16,
   "metadata": {},
   "outputs": [
    {
     "name": "stdout",
     "output_type": "stream",
     "text": [
      "[15 11  8 10 10 10 10  9 10  0 10 11  0  8 11 10 10 11  9 11  8 10 10 10\n",
      " 11  0 11 10 10 10 10 10 11 10  6 10 10 10 11 11 10 10  0 10 15 11 10  0\n",
      " 10 10 10 10 10 10  0 10 13 10 15  0 13 15  0 10 10  0  0 15 11 10 13  0\n",
      " 10  0  9  8 11  8 11]\n"
     ]
    }
   ],
   "source": [
    "pred = grid_search.predict(X_test_trans)\n",
    "print(pred)"
   ]
  },
  {
   "cell_type": "code",
   "execution_count": 18,
   "metadata": {},
   "outputs": [
    {
     "name": "stdout",
     "output_type": "stream",
     "text": [
      "[10  9 12 11 10  9 11 15 10 16 15  5 12  5 17 10  9 15  8  8 13 14 11 11\n",
      " 12 12  8 15  6  8 13  9  9  0 11 11  9 10 11 14 14 11 14 10 20 10 11  7\n",
      " 12 13 11  8 12 13  0  8 12  0 19  0 11 14 11 18  0 17  9 18 12 10 10 10\n",
      " 12  7 10 15  9  9  8]\n"
     ]
    }
   ],
   "source": [
    "ytest = y_test.values\n",
    "print(ytest)"
   ]
  },
  {
   "cell_type": "code",
   "execution_count": null,
   "metadata": {},
   "outputs": [],
   "source": []
  },
  {
   "cell_type": "code",
   "execution_count": 22,
   "metadata": {},
   "outputs": [],
   "source": [
    "student['school']= student.school.map({'GP' : 0, 'MS' :  1})\n",
    "student.sex = student.sex.map({'F' : 0, 'M' :  1})\n",
    "student.address = student.address.map({'U' : 0, 'R' :  1})\n",
    "student.famsize = student.famsize.map({'LE3' : 0, 'GT3' :  1})\n",
    "student.Pstatus = student.Pstatus.map({'T' : 0, 'A' :  1})\n",
    "student.Mjob = student.Mjob.map({'at_home' : 0, 'health' :  1, 'other' : 2, 'services' : 3, 'teacher' : 4})\n",
    "student.Fjob= student.Fjob.map({'at_home' : 0, 'health' :  1, 'other' : 2, 'services' : 3, 'teacher' : 4})\n",
    "student.guardian = student.guardian.map({'mother' : 0, 'father' :  1, 'other' : 2})"
   ]
  },
  {
   "cell_type": "code",
   "execution_count": 23,
   "metadata": {},
   "outputs": [],
   "source": [
    "col_names = ['schoolsup', 'famsup', 'paid', 'activities', 'nursery', 'higher', 'internet', 'romantic']\n",
    "\n",
    "for i in col_names:\n",
    "    student[i]= student[i].map({'yes' : 0, 'no' :  1})"
   ]
  },
  {
   "cell_type": "code",
   "execution_count": 24,
   "metadata": {},
   "outputs": [],
   "source": [
    "X, y = (student.drop(['G1', 'G2', 'G3'], axis = 1)), student.G3"
   ]
  },
  {
   "cell_type": "code",
   "execution_count": 25,
   "metadata": {},
   "outputs": [],
   "source": [
    "from sklearn.model_selection import train_test_split\n",
    "X_train, X_test, y_train, y_test = train_test_split(X, y, random_state = 10, test_size = 0.2)"
   ]
  },
  {
   "cell_type": "code",
   "execution_count": 26,
   "metadata": {},
   "outputs": [
    {
     "name": "stderr",
     "output_type": "stream",
     "text": [
      "C:\\Users\\ORC\\Anaconda3\\lib\\site-packages\\sklearn\\model_selection\\_split.py:657: Warning: The least populated class in y has only 1 members, which is too few. The minimum number of members in any class cannot be less than n_splits=5.\n",
      "  % (min_groups, self.n_splits)), Warning)\n",
      "C:\\Users\\ORC\\Anaconda3\\lib\\site-packages\\sklearn\\model_selection\\_search.py:814: DeprecationWarning: The default of the `iid` parameter will change from True to False in version 0.22 and will be removed in 0.24. This will change numeric results when test-set sizes are unequal.\n",
      "  DeprecationWarning)\n"
     ]
    },
    {
     "data": {
      "text/plain": [
       "GridSearchCV(cv=5, error_score='raise-deprecating',\n",
       "             estimator=LogisticRegression(C=1.0, class_weight=None, dual=False,\n",
       "                                          fit_intercept=True,\n",
       "                                          intercept_scaling=1, l1_ratio=None,\n",
       "                                          max_iter=100, multi_class='warn',\n",
       "                                          n_jobs=None, penalty='l2',\n",
       "                                          random_state=None, solver='warn',\n",
       "                                          tol=0.0001, verbose=0,\n",
       "                                          warm_start=False),\n",
       "             iid='warn', n_jobs=None,\n",
       "             param_grid={'C': [0.001, 0.01, 0.1, 1, 10, 100]},\n",
       "             pre_dispatch='2*n_jobs', refit=True, return_train_score=True,\n",
       "             scoring=None, verbose=0)"
      ]
     },
     "execution_count": 26,
     "metadata": {},
     "output_type": "execute_result"
    }
   ],
   "source": [
    "param_grid = {'C' : [0.001, 0.01, 0.1, 1, 10, 100]}\n",
    "\n",
    "grid_search = GridSearchCV(LogisticRegression(), param_grid, cv = 5, return_train_score = True)\n",
    "grid_search.fit(X_train, y_train)"
   ]
  },
  {
   "cell_type": "code",
   "execution_count": 27,
   "metadata": {
    "scrolled": true
   },
   "outputs": [
    {
     "name": "stdout",
     "output_type": "stream",
     "text": [
      "0.21518987341772153\n",
      "최고 교차 검증 점수:  0.31962025316455694\n",
      "최적 매개변수 :  {'C': 0.01}\n"
     ]
    }
   ],
   "source": [
    "print(grid_search.score(X_test, y_test))\n",
    "\n",
    "print(\"최고 교차 검증 점수: \", grid_search.best_score_)\n",
    "print(\"최적 매개변수 : \", grid_search.best_params_)"
   ]
  },
  {
   "cell_type": "code",
   "execution_count": 29,
   "metadata": {},
   "outputs": [
    {
     "name": "stdout",
     "output_type": "stream",
     "text": [
      "[ 0 10 10 15  0 10 15 15  0 10 15  0  0  8 14 10  0 15 11 11 11 15 15 15\n",
      " 13 15 11 13  0 10 10  0 11  0 11 10 10 10 10 11 13  0 10 11 15 11 10 10\n",
      " 10 11 11 10 10 15  0  0 11  0 15  0 15 15 11 15  0 15 10 15 11 11 10 10\n",
      " 11  0 10 15  8 11  0]\n"
     ]
    }
   ],
   "source": [
    "pred = grid_search.predict(X_test)\n",
    "print(pred)"
   ]
  },
  {
   "cell_type": "code",
   "execution_count": 30,
   "metadata": {},
   "outputs": [
    {
     "name": "stdout",
     "output_type": "stream",
     "text": [
      "[10  9 12 11 10  9 11 15 10 16 15  5 12  5 17 10  9 15  8  8 13 14 11 11\n",
      " 12 12  8 15  6  8 13  9  9  0 11 11  9 10 11 14 14 11 14 10 20 10 11  7\n",
      " 12 13 11  8 12 13  0  8 12  0 19  0 11 14 11 18  0 17  9 18 12 10 10 10\n",
      " 12  7 10 15  9  9  8]\n"
     ]
    }
   ],
   "source": [
    "ytest = y_test.values\n",
    "print(ytest)"
   ]
  },
  {
   "cell_type": "code",
   "execution_count": null,
   "metadata": {},
   "outputs": [],
   "source": []
  },
  {
   "cell_type": "markdown",
   "metadata": {},
   "source": [
    "# 평균차이 유사도"
   ]
  },
  {
   "cell_type": "code",
   "execution_count": 15,
   "metadata": {},
   "outputs": [
    {
     "data": {
      "text/plain": [
       "0.6131079006740423"
      ]
     },
     "execution_count": 15,
     "metadata": {},
     "output_type": "execute_result"
    }
   ],
   "source": [
    "np.sqrt(((y_test - grid_search.predict(X_test_trans)) ** 2).sum()) / len(X_test)"
   ]
  },
  {
   "cell_type": "code",
   "execution_count": 32,
   "metadata": {},
   "outputs": [
    {
     "data": {
      "text/plain": [
       "0.45692520627291255"
      ]
     },
     "execution_count": 32,
     "metadata": {},
     "output_type": "execute_result"
    }
   ],
   "source": [
    "np.sqrt(((y_test - grid_search.predict(X_test)) ** 2).sum()) / len(X_test)"
   ]
  },
  {
   "cell_type": "markdown",
   "metadata": {},
   "source": [
    "#  cosine similarity"
   ]
  },
  {
   "cell_type": "code",
   "execution_count": 21,
   "metadata": {},
   "outputs": [
    {
     "data": {
      "text/plain": [
       "0.013102344853852576"
      ]
     },
     "execution_count": 21,
     "metadata": {},
     "output_type": "execute_result"
    }
   ],
   "source": [
    "(pred * ytest).sum() / ((np.sqrt(pred**2).sum()) * (np.sqrt(ytest**2).sum()))"
   ]
  },
  {
   "cell_type": "code",
   "execution_count": 33,
   "metadata": {},
   "outputs": [
    {
     "data": {
      "text/plain": [
       "0.014548893610405763"
      ]
     },
     "execution_count": 33,
     "metadata": {},
     "output_type": "execute_result"
    }
   ],
   "source": [
    "(pred * ytest).sum() / ((np.sqrt(pred**2).sum()) * (np.sqrt(ytest**2).sum()))"
   ]
  },
  {
   "cell_type": "code",
   "execution_count": null,
   "metadata": {},
   "outputs": [],
   "source": []
  }
 ],
 "metadata": {
  "kernelspec": {
   "display_name": "Python 3",
   "language": "python",
   "name": "python3"
  },
  "language_info": {
   "codemirror_mode": {
    "name": "ipython",
    "version": 3
   },
   "file_extension": ".py",
   "mimetype": "text/x-python",
   "name": "python",
   "nbconvert_exporter": "python",
   "pygments_lexer": "ipython3",
   "version": "3.7.0"
  }
 },
 "nbformat": 4,
 "nbformat_minor": 2
}
